{
 "metadata": {
  "name": "",
  "signature": "sha256:3bf74dd2c08a62b7ad5944788cfb61953ea58f1655d1a126c29c86c1c8b394ec"
 },
 "nbformat": 3,
 "nbformat_minor": 0,
 "worksheets": [
  {
   "cells": [
    {
     "cell_type": "markdown",
     "metadata": {},
     "source": [
      "Example glue code for Spark+HDF5\n",
      "--------------------------------\n",
      "Writing a generic Hadoop input format for reading HDF5 into Spark will be hard, but we can try using `sc.parallelize` alongside Python's HDF5 libraries to manually load the contents of an HDF5 container in parallel. This notebooks demonstrates basic working functionality, at least for HDF5 files with simple array data."
     ]
    },
    {
     "cell_type": "markdown",
     "metadata": {},
     "source": [
      "Set a path to the data (customize accordingly)"
     ]
    },
    {
     "cell_type": "code",
     "collapsed": false,
     "input": [
      "kwik_file = '/Users/roman/Downloads/test_hybrid_120sec.kwik'\n",
      "empty_file = '/Users/roman/tmp/test.h5'\n",
      "\n",
      "# Lightning config\n",
      "plotting_host = \"https://murmuring-falls-4726.herokuapp.com\"\n",
      "session_id = 3"
     ],
     "language": "python",
     "metadata": {},
     "outputs": [],
     "prompt_number": 87
    },
    {
     "cell_type": "markdown",
     "metadata": {},
     "source": [
      "#### NOTE: Substitute your lightning plotting host by localhost or your own free Heroku instance:\n",
      "https://github.com/mathisonian/lightning/blob/master/README.md\n",
      "\n",
      "Also, specify the `session_id` you have instantiated in your lightning instance."
     ]
    },
    {
     "cell_type": "code",
     "collapsed": false,
     "input": [
      "import json\n",
      "from collections import defaultdict\n",
      "from itertools import izip\n",
      "import h5py as h5\n",
      "import tables\n",
      "import seaborn as sns\n",
      "import matplotlib.pyplot as plt\n",
      "from numpy import random\n",
      "\n",
      "from lightning import Lightning\n",
      "%pylab inline"
     ],
     "language": "python",
     "metadata": {},
     "outputs": [
      {
       "output_type": "stream",
       "stream": "stdout",
       "text": [
        "Populating the interactive namespace from numpy and matplotlib\n"
       ]
      },
      {
       "output_type": "stream",
       "stream": "stderr",
       "text": [
        "WARNING: pylab import has clobbered these variables: ['empty', 'f']\n",
        "`%matplotlib` prevents importing * from pylab and numpy\n"
       ]
      }
     ],
     "prompt_number": 94
    },
    {
     "cell_type": "markdown",
     "metadata": {},
     "source": [
      "Create an HDF5 file and populate with random data"
     ]
    },
    {
     "cell_type": "code",
     "collapsed": false,
     "input": [
      "f = h5.File(empty_file, 'w')"
     ],
     "language": "python",
     "metadata": {},
     "outputs": [],
     "prompt_number": 3
    },
    {
     "cell_type": "code",
     "collapsed": false,
     "input": [
      "f.create_dataset('mydata', (100,1000))\n",
      "f['/mydata'][:] = random.randn(100,1000)"
     ],
     "language": "python",
     "metadata": {},
     "outputs": [],
     "prompt_number": 4
    },
    {
     "cell_type": "markdown",
     "metadata": {},
     "source": [
      "Load the file and show the contents locally, both on our own file and a tests kwik format file"
     ]
    },
    {
     "cell_type": "code",
     "collapsed": false,
     "input": [
      "empty = h5.File(empty_file)\n",
      "kwik = tables.File(kwik_file, 'r')"
     ],
     "language": "python",
     "metadata": {},
     "outputs": [],
     "prompt_number": 5
    },
    {
     "cell_type": "code",
     "collapsed": false,
     "input": [
      "empty['/mydata'][:].shape"
     ],
     "language": "python",
     "metadata": {},
     "outputs": [
      {
       "metadata": {},
       "output_type": "pyout",
       "prompt_number": 7,
       "text": [
        "(100, 1000)"
       ]
      }
     ],
     "prompt_number": 7
    },
    {
     "cell_type": "code",
     "collapsed": false,
     "input": [
      "empty.close()"
     ],
     "language": "python",
     "metadata": {},
     "outputs": [],
     "prompt_number": 8
    },
    {
     "cell_type": "markdown",
     "metadata": {},
     "source": [
      "Try to load the contents of the contained array in parallel via Spark"
     ]
    },
    {
     "cell_type": "code",
     "collapsed": false,
     "input": [
      "def readchunk(v):\n",
      "    empty = h5.File(empty_file)\n",
      "    return empty['/mydata'][v,:]\n",
      "\n",
      "foo = sc.parallelize(range(0,100)).map(lambda v: readchunk(v))"
     ],
     "language": "python",
     "metadata": {},
     "outputs": [],
     "prompt_number": 98
    },
    {
     "cell_type": "markdown",
     "metadata": {},
     "source": [
      "Do a count... if this works, the loading ran without error (but still need to check contents)"
     ]
    },
    {
     "cell_type": "code",
     "collapsed": false,
     "input": [
      "foo.count()"
     ],
     "language": "python",
     "metadata": {},
     "outputs": [
      {
       "metadata": {},
       "output_type": "pyout",
       "prompt_number": 99,
       "text": [
        "100"
       ]
      }
     ],
     "prompt_number": 99
    },
    {
     "cell_type": "markdown",
     "metadata": {},
     "source": [
      "Check the first record, should be an (1000,) array"
     ]
    },
    {
     "cell_type": "code",
     "collapsed": false,
     "input": [
      "foo.first().shape"
     ],
     "language": "python",
     "metadata": {},
     "outputs": [
      {
       "metadata": {},
       "output_type": "pyout",
       "prompt_number": 34,
       "text": [
        "(1000,)"
       ]
      }
     ],
     "prompt_number": 34
    },
    {
     "cell_type": "markdown",
     "metadata": {},
     "source": [
      "Enough play with Spark for now... let's have a look at what is inside the example .kwik HDF5... Let's walk through it"
     ]
    },
    {
     "cell_type": "code",
     "collapsed": false,
     "input": [
      "kwik.get_node('/')"
     ],
     "language": "python",
     "metadata": {},
     "outputs": [
      {
       "metadata": {},
       "output_type": "pyout",
       "prompt_number": 6,
       "text": [
        "/ (RootGroup) ''\n",
        "  children := ['recordings' (Group), 'application_data' (Group), 'channel_groups' (Group), 'event_types' (Group), 'user_data' (Group)]"
       ]
      }
     ],
     "prompt_number": 6
    },
    {
     "cell_type": "code",
     "collapsed": false,
     "input": [
      "chan_grps = [g for g in kwik.walk_nodes('/channel_groups/')]\n",
      "chan_grps[1:10]"
     ],
     "language": "python",
     "metadata": {},
     "outputs": [
      {
       "metadata": {},
       "output_type": "pyout",
       "prompt_number": 108,
       "text": [
        "[/channel_groups//0 (Group) ''\n",
        "   children := ['spikes' (Group), 'user_data' (Group), 'channels' (Group), 'cluster_groups' (Group), 'clusters' (Group), 'application_data' (Group)],\n",
        " /channel_groups//0/application_data (Group) ''\n",
        "   children := [],\n",
        " /channel_groups//0/channels (Group) ''\n",
        "   children := ['24' (Group), '25' (Group), '26' (Group), '27' (Group), '20' (Group), '21' (Group), '22' (Group), '23' (Group), '28' (Group), '29' (Group), '1' (Group), '0' (Group), '3' (Group), '2' (Group), '5' (Group), '4' (Group), '7' (Group), '6' (Group), '9' (Group), '8' (Group), '11' (Group), '10' (Group), '13' (Group), '12' (Group), '15' (Group), '14' (Group), '17' (Group), '16' (Group), '19' (Group), '18' (Group), '31' (Group), '30' (Group)],\n",
        " /channel_groups//0/cluster_groups (Group) ''\n",
        "   children := ['main' (Group), 'original' (Group)],\n",
        " /channel_groups//0/clusters (Group) ''\n",
        "   children := ['main' (Group), 'original' (Group)],\n",
        " /channel_groups//0/spikes (Group) ''\n",
        "   children := ['recording' (EArray), 'waveforms_filtered' (Group), 'waveforms_raw' (Group), 'time_samples' (EArray), 'time_fractional' (EArray), 'clusters' (Group), 'features_masks' (Group)],\n",
        " /channel_groups//0/user_data (Group) ''\n",
        "   children := [],\n",
        " /channel_groups//0/channels/0 (Group) ''\n",
        "   children := ['application_data' (Group), 'user_data' (Group)],\n",
        " /channel_groups//0/channels/1 (Group) ''\n",
        "   children := ['application_data' (Group), 'user_data' (Group)]]"
       ]
      }
     ],
     "prompt_number": 108
    },
    {
     "cell_type": "code",
     "collapsed": false,
     "input": [
      "clusters = kwik.get_node('/channel_groups/0/spikes/clusters/original')\n",
      "time_samples = kwik.get_node('/channel_groups/0/spikes/time_samples')"
     ],
     "language": "python",
     "metadata": {},
     "outputs": [],
     "prompt_number": 118
    },
    {
     "cell_type": "code",
     "collapsed": false,
     "input": [
      "clusters[:], time_samples[:]"
     ],
     "language": "python",
     "metadata": {},
     "outputs": [
      {
       "metadata": {},
       "output_type": "pyout",
       "prompt_number": 119,
       "text": [
        "(array([20, 10, 25, ..., 10, 12, 20], dtype=uint32),\n",
        " array([     35,     795,     812, ..., 2398670, 2398753, 2399983], dtype=uint64))"
       ]
      }
     ],
     "prompt_number": 119
    },
    {
     "cell_type": "code",
     "collapsed": false,
     "input": [
      "clusters.shape, time_samples.shape"
     ],
     "language": "python",
     "metadata": {},
     "outputs": [
      {
       "metadata": {},
       "output_type": "pyout",
       "prompt_number": 121,
       "text": [
        "((18539,), (18539,))"
       ]
      }
     ],
     "prompt_number": 121
    },
    {
     "cell_type": "code",
     "collapsed": false,
     "input": [
      "clusters2 = [int(s) for s in clusters]\n",
      "points = dict(izip(range(1, clusters.shape[0]), clusters2))\n",
      "timing_plot = dict(izip(clusters, time_samples))"
     ],
     "language": "python",
     "metadata": {},
     "outputs": [],
     "prompt_number": 131
    },
    {
     "cell_type": "markdown",
     "metadata": {},
     "source": [
      "First plotting locally... might not make sense, just plotting data I found in the HDF5 container"
     ]
    },
    {
     "cell_type": "code",
     "collapsed": false,
     "input": [
      "plt.plot(clusters, 'ro')"
     ],
     "language": "python",
     "metadata": {},
     "outputs": [
      {
       "metadata": {},
       "output_type": "pyout",
       "prompt_number": 124,
       "text": [
        "[<matplotlib.lines.Line2D at 0x1172f4fd0>]"
       ]
      },
      {
       "metadata": {},
       "output_type": "display_data",
       "png": "[encoded data removed]",
       "text": [
        "<matplotlib.figure.Figure at 0x11574ffd0>"
       ]
      }
     ],
     "prompt_number": 124
    },
    {
     "cell_type": "markdown",
     "metadata": {},
     "source": [
      "We can go fancy and plot stuff with lightning... TBD"
     ]
    },
    {
     "cell_type": "code",
     "collapsed": false,
     "input": [
      "lightning = Lightning(host=plotting_host, ipython=True)\n",
      "lightning.use_session(session_id)\n",
      "lightning.plot(data=[1,2,3,4,5], type='line')"
     ],
     "language": "python",
     "metadata": {},
     "outputs": [
      {
       "html": [
        "<meta name=\"viewport\" content=\"width=device-width, initial-scale=1, maximum-scale=1\"/><meta http-equiv=\"X-UA-Compatible\" content=\"IE=10; IE=9; IE=8; IE=7; IE=EDGE\"/><meta charset=\"UTF-8\"/><link href=\"http://fonts.googleapis.com/css?family=Open+Sans:400,700\" rel=\"stylesheet\" type=\"text/css\"/><link rel=\"stylesheet\" href=\"/css/app.css\"/><link rel=\"stylesheet\" href=\"/css/dynamic/viz/?visualizations[]=line\"/><div id=\"lightning-body\" class=\"container content wrap push\"><div class=\"feed-container\"><div data-model=\"visualization\" data-model-id=\"4\" class=\"feed-item-container\"><div data-type=\"line\" data-data=\"[1,2,3,4,5]\" data-images=\"null\" data-options=\"null\" id=\"viz-4\" data-initialized=\"false\" class=\"feed-item\"></div></div></div></div><script>window.lightning = window.lightning || {};\n",
        "window.lightning.host = window.lightning.host || \"/\" || 'http://127.0.0.1:3000/';\n",
        "window.lightning.requiredVizTypes = window.lightning.requiredVizTypes || [];\n",
        "if(window.lightning.requiredVizTypes.indexOf(\"line\") === -1) {\n",
        "    window.lightning.requiredVizTypes.push(\"line\");\n",
        "}\n",
        "window._require = window.require;\n",
        "window.require = undefined;\n",
        "window._define = window.define;\n",
        "window.define = undefined;</script><script src=\"/js/embed.js\"></script>"
       ],
       "metadata": {},
       "output_type": "pyout",
       "prompt_number": 135,
       "text": [
        "<lightning.visualization.Visualization at 0x10959f810>"
       ]
      }
     ],
     "prompt_number": 135
    }
   ],
   "metadata": {}
  }
 ]
}